{
 "cells": [
  {
   "cell_type": "code",
   "execution_count": 1,
   "id": "2bdd1ccb",
   "metadata": {},
   "outputs": [],
   "source": [
    "import json\n",
    "import requests\n",
    "import pandas as pd"
   ]
  },
  {
   "cell_type": "code",
   "execution_count": 2,
   "id": "c8635afe",
   "metadata": {},
   "outputs": [],
   "source": [
    "endpoint = \"https://data.iadb.org/api/action/datastore_search\"\n",
    "params = {\n",
    "    \"resource_id\": \"3f49f455-2427-4030-ba8d-df2490615d52\",\n",
    "    \"limit\": 1000,\n",
    "    \"offset\": 0\n",
    "}"
   ]
  },
  {
   "cell_type": "code",
   "execution_count": 5,
   "id": "7125f8ec",
   "metadata": {},
   "outputs": [
    {
     "data": {
      "application/vnd.microsoft.datawrangler.viewer.v0+json": {
       "columns": [
        {
         "name": "index",
         "rawType": "int64",
         "type": "integer"
        },
        {
         "name": "_id",
         "rawType": "int64",
         "type": "integer"
        },
        {
         "name": "name",
         "rawType": "object",
         "type": "string"
        },
        {
         "name": "country",
         "rawType": "object",
         "type": "string"
        },
        {
         "name": "isoalpha3",
         "rawType": "object",
         "type": "string"
        },
        {
         "name": "frequency",
         "rawType": "object",
         "type": "string"
        },
        {
         "name": "period",
         "rawType": "object",
         "type": "string"
        },
        {
         "name": "date",
         "rawType": "object",
         "type": "string"
        },
        {
         "name": "value",
         "rawType": "object",
         "type": "string"
        }
       ],
       "ref": "346d344c-01a6-40b9-84fd-31682efbfebc",
       "rows": [
        [
         "0",
         "1",
         "GDP (US$ per capita, current prices)",
         "Argentina",
         "ARG",
         "Annual",
         "1993",
         "01/01/1993 12:00:00 AM",
         "7535.541554789233"
        ],
        [
         "1",
         "2",
         "GDP (US$ per capita, current prices)",
         "Argentina",
         "ARG",
         "Annual",
         "1994",
         "01/01/1994 12:00:00 AM",
         "8093.228662041112"
        ],
        [
         "2",
         "3",
         "GDP (US$ per capita, current prices)",
         "Argentina",
         "ARG",
         "Annual",
         "1995",
         "01/01/1995 12:00:00 AM",
         "8001.790979809282"
        ],
        [
         "3",
         "4",
         "GDP (US$ per capita, current prices)",
         "Argentina",
         "ARG",
         "Annual",
         "1996",
         "01/01/1996 12:00:00 AM",
         "8333.892346308428"
        ],
        [
         "4",
         "5",
         "GDP (US$ per capita, current prices)",
         "Argentina",
         "ARG",
         "Annual",
         "1997",
         "01/01/1997 12:00:00 AM",
         "8861.236559767358"
        ],
        [
         "5",
         "6",
         "GDP (US$ per capita, current prices)",
         "Argentina",
         "ARG",
         "Annual",
         "1998",
         "01/01/1998 12:00:00 AM",
         "8941.331755615676"
        ],
        [
         "6",
         "7",
         "GDP (US$ per capita, current prices)",
         "Argentina",
         "ARG",
         "Annual",
         "1999",
         "01/01/1999 12:00:00 AM",
         "8382.838615801007"
        ],
        [
         "7",
         "8",
         "GDP (US$ per capita, current prices)",
         "Argentina",
         "ARG",
         "Annual",
         "2000",
         "01/01/2000 12:00:00 AM",
         "8308.273816048139"
        ],
        [
         "8",
         "9",
         "GDP (US$ per capita, current prices)",
         "Argentina",
         "ARG",
         "Annual",
         "2001",
         "01/01/2001 12:00:00 AM",
         "7769.082252201162"
        ],
        [
         "9",
         "10",
         "GDP (US$ per capita, current prices)",
         "Argentina",
         "ARG",
         "Annual",
         "2002",
         "01/01/2002 12:00:00 AM",
         "2759.55523613778"
        ]
       ],
       "shape": {
        "columns": 8,
        "rows": 10
       }
      },
      "text/html": [
       "<div>\n",
       "<style scoped>\n",
       "    .dataframe tbody tr th:only-of-type {\n",
       "        vertical-align: middle;\n",
       "    }\n",
       "\n",
       "    .dataframe tbody tr th {\n",
       "        vertical-align: top;\n",
       "    }\n",
       "\n",
       "    .dataframe thead th {\n",
       "        text-align: right;\n",
       "    }\n",
       "</style>\n",
       "<table border=\"1\" class=\"dataframe\">\n",
       "  <thead>\n",
       "    <tr style=\"text-align: right;\">\n",
       "      <th></th>\n",
       "      <th>_id</th>\n",
       "      <th>name</th>\n",
       "      <th>country</th>\n",
       "      <th>isoalpha3</th>\n",
       "      <th>frequency</th>\n",
       "      <th>period</th>\n",
       "      <th>date</th>\n",
       "      <th>value</th>\n",
       "    </tr>\n",
       "  </thead>\n",
       "  <tbody>\n",
       "    <tr>\n",
       "      <th>0</th>\n",
       "      <td>1</td>\n",
       "      <td>GDP (US$ per capita, current prices)</td>\n",
       "      <td>Argentina</td>\n",
       "      <td>ARG</td>\n",
       "      <td>Annual</td>\n",
       "      <td>1993</td>\n",
       "      <td>01/01/1993 12:00:00 AM</td>\n",
       "      <td>7535.541554789233</td>\n",
       "    </tr>\n",
       "    <tr>\n",
       "      <th>1</th>\n",
       "      <td>2</td>\n",
       "      <td>GDP (US$ per capita, current prices)</td>\n",
       "      <td>Argentina</td>\n",
       "      <td>ARG</td>\n",
       "      <td>Annual</td>\n",
       "      <td>1994</td>\n",
       "      <td>01/01/1994 12:00:00 AM</td>\n",
       "      <td>8093.228662041112</td>\n",
       "    </tr>\n",
       "    <tr>\n",
       "      <th>2</th>\n",
       "      <td>3</td>\n",
       "      <td>GDP (US$ per capita, current prices)</td>\n",
       "      <td>Argentina</td>\n",
       "      <td>ARG</td>\n",
       "      <td>Annual</td>\n",
       "      <td>1995</td>\n",
       "      <td>01/01/1995 12:00:00 AM</td>\n",
       "      <td>8001.790979809282</td>\n",
       "    </tr>\n",
       "    <tr>\n",
       "      <th>3</th>\n",
       "      <td>4</td>\n",
       "      <td>GDP (US$ per capita, current prices)</td>\n",
       "      <td>Argentina</td>\n",
       "      <td>ARG</td>\n",
       "      <td>Annual</td>\n",
       "      <td>1996</td>\n",
       "      <td>01/01/1996 12:00:00 AM</td>\n",
       "      <td>8333.892346308428</td>\n",
       "    </tr>\n",
       "    <tr>\n",
       "      <th>4</th>\n",
       "      <td>5</td>\n",
       "      <td>GDP (US$ per capita, current prices)</td>\n",
       "      <td>Argentina</td>\n",
       "      <td>ARG</td>\n",
       "      <td>Annual</td>\n",
       "      <td>1997</td>\n",
       "      <td>01/01/1997 12:00:00 AM</td>\n",
       "      <td>8861.236559767358</td>\n",
       "    </tr>\n",
       "    <tr>\n",
       "      <th>5</th>\n",
       "      <td>6</td>\n",
       "      <td>GDP (US$ per capita, current prices)</td>\n",
       "      <td>Argentina</td>\n",
       "      <td>ARG</td>\n",
       "      <td>Annual</td>\n",
       "      <td>1998</td>\n",
       "      <td>01/01/1998 12:00:00 AM</td>\n",
       "      <td>8941.331755615676</td>\n",
       "    </tr>\n",
       "    <tr>\n",
       "      <th>6</th>\n",
       "      <td>7</td>\n",
       "      <td>GDP (US$ per capita, current prices)</td>\n",
       "      <td>Argentina</td>\n",
       "      <td>ARG</td>\n",
       "      <td>Annual</td>\n",
       "      <td>1999</td>\n",
       "      <td>01/01/1999 12:00:00 AM</td>\n",
       "      <td>8382.838615801007</td>\n",
       "    </tr>\n",
       "    <tr>\n",
       "      <th>7</th>\n",
       "      <td>8</td>\n",
       "      <td>GDP (US$ per capita, current prices)</td>\n",
       "      <td>Argentina</td>\n",
       "      <td>ARG</td>\n",
       "      <td>Annual</td>\n",
       "      <td>2000</td>\n",
       "      <td>01/01/2000 12:00:00 AM</td>\n",
       "      <td>8308.273816048139</td>\n",
       "    </tr>\n",
       "    <tr>\n",
       "      <th>8</th>\n",
       "      <td>9</td>\n",
       "      <td>GDP (US$ per capita, current prices)</td>\n",
       "      <td>Argentina</td>\n",
       "      <td>ARG</td>\n",
       "      <td>Annual</td>\n",
       "      <td>2001</td>\n",
       "      <td>01/01/2001 12:00:00 AM</td>\n",
       "      <td>7769.082252201162</td>\n",
       "    </tr>\n",
       "    <tr>\n",
       "      <th>9</th>\n",
       "      <td>10</td>\n",
       "      <td>GDP (US$ per capita, current prices)</td>\n",
       "      <td>Argentina</td>\n",
       "      <td>ARG</td>\n",
       "      <td>Annual</td>\n",
       "      <td>2002</td>\n",
       "      <td>01/01/2002 12:00:00 AM</td>\n",
       "      <td>2759.55523613778</td>\n",
       "    </tr>\n",
       "  </tbody>\n",
       "</table>\n",
       "</div>"
      ],
      "text/plain": [
       "   _id                                  name    country isoalpha3 frequency  \\\n",
       "0    1  GDP (US$ per capita, current prices)  Argentina       ARG    Annual   \n",
       "1    2  GDP (US$ per capita, current prices)  Argentina       ARG    Annual   \n",
       "2    3  GDP (US$ per capita, current prices)  Argentina       ARG    Annual   \n",
       "3    4  GDP (US$ per capita, current prices)  Argentina       ARG    Annual   \n",
       "4    5  GDP (US$ per capita, current prices)  Argentina       ARG    Annual   \n",
       "5    6  GDP (US$ per capita, current prices)  Argentina       ARG    Annual   \n",
       "6    7  GDP (US$ per capita, current prices)  Argentina       ARG    Annual   \n",
       "7    8  GDP (US$ per capita, current prices)  Argentina       ARG    Annual   \n",
       "8    9  GDP (US$ per capita, current prices)  Argentina       ARG    Annual   \n",
       "9   10  GDP (US$ per capita, current prices)  Argentina       ARG    Annual   \n",
       "\n",
       "  period                    date              value  \n",
       "0   1993  01/01/1993 12:00:00 AM  7535.541554789233  \n",
       "1   1994  01/01/1994 12:00:00 AM  8093.228662041112  \n",
       "2   1995  01/01/1995 12:00:00 AM  8001.790979809282  \n",
       "3   1996  01/01/1996 12:00:00 AM  8333.892346308428  \n",
       "4   1997  01/01/1997 12:00:00 AM  8861.236559767358  \n",
       "5   1998  01/01/1998 12:00:00 AM  8941.331755615676  \n",
       "6   1999  01/01/1999 12:00:00 AM  8382.838615801007  \n",
       "7   2000  01/01/2000 12:00:00 AM  8308.273816048139  \n",
       "8   2001  01/01/2001 12:00:00 AM  7769.082252201162  \n",
       "9   2002  01/01/2002 12:00:00 AM   2759.55523613778  "
      ]
     },
     "execution_count": 5,
     "metadata": {},
     "output_type": "execute_result"
    }
   ],
   "source": [
    "response = requests.get(endpoint, params=params)\n",
    "response_json= json.loads(response.text)\n",
    "df = pd.DataFrame(response_json[\"result\"][\"records\"])\n",
    "df.head(10)"
   ]
  }
 ],
 "metadata": {
  "kernelspec": {
   "display_name": "dailypy",
   "language": "python",
   "name": "python3"
  },
  "language_info": {
   "codemirror_mode": {
    "name": "ipython",
    "version": 3
   },
   "file_extension": ".py",
   "mimetype": "text/x-python",
   "name": "python",
   "nbconvert_exporter": "python",
   "pygments_lexer": "ipython3",
   "version": "3.13.7"
  }
 },
 "nbformat": 4,
 "nbformat_minor": 5
}
